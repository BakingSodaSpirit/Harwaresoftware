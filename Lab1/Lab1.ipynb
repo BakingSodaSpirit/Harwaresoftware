{
 "cells": [
  {
   "cell_type": "code",
   "execution_count": 1,
   "metadata": {},
   "outputs": [],
   "source": [
    "#Lab1\n",
    "#Class:ELEC4511 HardwareSoftware\n",
    "#Name:Fuwei Huang,Claire Charlton,John Milner"
   ]
  },
  {
   "cell_type": "code",
   "execution_count": 2,
   "metadata": {},
   "outputs": [],
   "source": [
    "import numpy\n",
    "import os"
   ]
  },
  {
   "cell_type": "code",
   "execution_count": 3,
   "metadata": {},
   "outputs": [
    {
     "name": "stdout",
     "output_type": "stream",
     "text": [
      "[{'#1': {'David Jake': 97}}, {'#2': {'Leo Marsh': 88}}, {'#3': {'Duncan John': 79}}, {'#4': {'Tom Richards': 92}}, {'#5': {'Jimmy Connors': 87}}]\n"
     ]
    }
   ],
   "source": [
    "#Prob  1\n",
    "ID=['#1', '#2', '#3', '#4', '#5']\n",
    "Score=[97,88,79,92,87]\n",
    "Name=['David Jake','Leo Marsh','Duncan John','Tom Richards','Jimmy Connors']\n",
    "def nested_dictionary(ID,Name,Score):\n",
    "    nest_dict=[{a:{b:c}} for (a,b,c) in zip(ID,Score,Name)] #Dict comp\n",
    "    return print(nest_dict)\n",
    "nested_dictionary(ID,Score,Name)"
   ]
  },
  {
   "cell_type": "code",
   "execution_count": 4,
   "metadata": {},
   "outputs": [],
   "source": [
    "#Prob 2\n",
    "def longestPeak(array):\n",
    "    i=0\n",
    "    j=-1\n",
    "    k=-1\n",
    "    d=0\n",
    "    if (len(array)<3): #There won't be a peak sequence in array less than 3\n",
    "        return 0\n",
    "    for i in range(len(array)-1): #loop through the array\n",
    "        if(array[i+1] > array[i]): #Check if the next elem is larger than the prev -increasing order\n",
    "            if(k!=-1): #since we are finding the longest peak, this counts as a reset\n",
    "                k= -1\n",
    "                j= -1\n",
    "            if(j==-1):\n",
    "                j=i #store the staring index of the peak sequency\n",
    "        else:\n",
    "            if(array[i+1]<array[i]):#decreasing order\n",
    "                 if (j!=-1): #check if its the starting sequency of the array\n",
    "                    k=i+1 #ending index of the peak sequency \n",
    "            if(k != -1 and j != -1):#if both staring index and ending index exist for peak sequence\n",
    "                if(d < (k - j + 1)):\n",
    "                    d= k - j + 1 #Calculate and update the length\n",
    "            else:\n",
    "                k=-1\n",
    "                j=-1 #reset\n",
    "            \n",
    "    if(k != -1 and j != -1):#check if both staring index and ending index exist for peak sequence\n",
    "        if(d < (k - j + 1)):\n",
    "            d= k - j + 1\n",
    "    return d"
   ]
  },
  {
   "cell_type": "code",
   "execution_count": 5,
   "metadata": {},
   "outputs": [
    {
     "data": {
      "text/plain": [
       "(6, 0, 5, 0)"
      ]
     },
     "execution_count": 5,
     "metadata": {},
     "output_type": "execute_result"
    }
   ],
   "source": [
    "array1=[1, 2, 3, 3, 4, 0, 10, 6, 5, -1, -3, 2, 3]\n",
    "array2=[]\n",
    "array3=[1, 2, 3, 2, 1, 1]\n",
    "array4=[5, 4, 3, 2, 1, 2, 10, 12]\n",
    "longestPeak(array1),longestPeak(array2),longestPeak(array3),longestPeak(array4)"
   ]
  },
  {
   "cell_type": "code",
   "execution_count": 6,
   "metadata": {},
   "outputs": [
    {
     "data": {
      "text/plain": [
       "'C:\\\\Users\\\\Huang\\\\Dropbox\\\\ELEC 4511 Hardware Software\\\\Lab1'"
      ]
     },
     "execution_count": 6,
     "metadata": {},
     "output_type": "execute_result"
    }
   ],
   "source": [
    "pwd"
   ]
  },
  {
   "cell_type": "code",
   "execution_count": 7,
   "metadata": {},
   "outputs": [
    {
     "data": {
      "text/plain": [
       "86"
      ]
     },
     "execution_count": 7,
     "metadata": {},
     "output_type": "execute_result"
    }
   ],
   "source": [
    "#Prob 3\n",
    "txt='words.txt'\n",
    "filepath=os.path.abspath(txt)\n",
    "def count_words(filepath):\n",
    "    count=0\n",
    "    file=open(filepath, \"r\")  \n",
    "    for line in file:\n",
    "        wordsspace=line.split(\" \");#split the line base on space\n",
    "        wordscomma=line.split(\",\");#Split the line base on comma\n",
    "        count = count + len(wordsspace) + len(wordscomma);\n",
    "    return count\n",
    "count_words(filepath)"
   ]
  },
  {
   "cell_type": "code",
   "execution_count": null,
   "metadata": {},
   "outputs": [],
   "source": []
  }
 ],
 "metadata": {
  "kernelspec": {
   "display_name": "Python 3",
   "language": "python",
   "name": "python3"
  },
  "language_info": {
   "codemirror_mode": {
    "name": "ipython",
    "version": 3
   },
   "file_extension": ".py",
   "mimetype": "text/x-python",
   "name": "python",
   "nbconvert_exporter": "python",
   "pygments_lexer": "ipython3",
   "version": "3.8.5"
  }
 },
 "nbformat": 4,
 "nbformat_minor": 4
}
