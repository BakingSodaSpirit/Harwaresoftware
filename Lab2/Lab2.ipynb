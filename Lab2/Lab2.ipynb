{
 "cells": [
  {
   "cell_type": "code",
   "execution_count": 1,
   "metadata": {},
   "outputs": [],
   "source": [
    "#Lab2\n",
    "#Class:ELEC4511 HardwareSoftware\n",
    "#Name:Fuwei Huang,Claire Charlton,John Milner"
   ]
  },
  {
   "cell_type": "code",
   "execution_count": 2,
   "metadata": {},
   "outputs": [],
   "source": [
    "import json\n",
    "import ast\n",
    "import pandas as pd\n",
    "from pandas import DataFrame"
   ]
  },
  {
   "cell_type": "code",
   "execution_count": 3,
   "metadata": {},
   "outputs": [
    {
     "name": "stdout",
     "output_type": "stream",
     "text": [
      "120\n"
     ]
    }
   ],
   "source": [
    "#Part 1\n",
    "class Rectangle():\n",
    "    def __init__(self,length,width):\n",
    "        self.length=length\n",
    "        self.width=width\n",
    "    def rectangle_area(self):\n",
    "        self.area=self.length * self.width #Calculate area\n",
    "        return self.area\n",
    "newRectangle=Rectangle(12,10)\n",
    "print(newRectangle.rectangle_area())"
   ]
  },
  {
   "cell_type": "code",
   "execution_count": 4,
   "metadata": {},
   "outputs": [
    {
     "name": "stdout",
     "output_type": "stream",
     "text": [
      "200.96\n",
      "50.24\n"
     ]
    }
   ],
   "source": [
    "#Part 2\n",
    "class Circle ():\n",
    "    def __init__(self,radius):\n",
    "        self.radius=radius\n",
    "    def areas(self):\n",
    "        self.area=3.14*(self.radius**2) #Calculate area\n",
    "        return self.area\n",
    "    def circumference(self):\n",
    "        self.circu=2*3.14*self.radius #Calculate Circumference\n",
    "        return self.circu\n",
    "NewCircle= Circle(8)\n",
    "print(NewCircle.areas())\n",
    "print(NewCircle.circumference())"
   ]
  },
  {
   "cell_type": "code",
   "execution_count": 5,
   "metadata": {},
   "outputs": [],
   "source": [
    "#Problem 2\n",
    "def create_json():\n",
    "    user_value={}\n",
    "    while True:\n",
    "        value=input('Enter an item or type \"done\" to quit:\\n')\n",
    "        if value == 'done':\n",
    "            break\n",
    "        else:\n",
    "            newdict=json.loads('{'+value+'}') #Convert it to dict form\n",
    "            user_value.update(newdict) #Update the dict\n",
    "    with open('information.json',\"w\") as f:\n",
    "        f.write(json.dumps(user_value)) #Write to the Json file\n",
    "    return user_value"
   ]
  },
  {
   "cell_type": "code",
   "execution_count": 6,
   "metadata": {},
   "outputs": [
    {
     "name": "stdout",
     "output_type": "stream",
     "text": [
      "Enter an item or type \"done\" to quit:\n",
      "\"yoyo\":{\"yo\":1}\n",
      "Enter an item or type \"done\" to quit:\n",
      "done\n",
      "{'yoyo': {'yo': 1}}\n"
     ]
    }
   ],
   "source": [
    "print(create_json())"
   ]
  },
  {
   "cell_type": "code",
   "execution_count": 7,
   "metadata": {},
   "outputs": [
    {
     "name": "stdout",
     "output_type": "stream",
     "text": [
      "    emp_id first_name   last_name  hire_date\n",
      "4      104      Bruce       Ernst 2007-05-21\n",
      "7      107      Diana     Lorentz 2007-02-07\n",
      "13     113       Luis        Popp 2007-12-07\n",
      "19     119      Karen  Colmenares 2007-08-10\n"
     ]
    }
   ],
   "source": [
    "#Problem 3- Part1\n",
    "def read_comp():\n",
    "    data=pd.read_excel('employee.xlsx',sheet_name='Sheet1')\n",
    "    filterdata=data[data['hire_date']> '2007-01-01'] #Set the range\n",
    "    frame=DataFrame(filterdata) #Convert it to dataframe\n",
    "    return frame\n",
    "print(read_comp())"
   ]
  },
  {
   "cell_type": "code",
   "execution_count": 8,
   "metadata": {},
   "outputs": [
    {
     "name": "stdout",
     "output_type": "stream",
     "text": [
      "    emp_id   first_name   last_name  hire_date\n",
      "2      102          Lex     De Haan 2001-01-13\n",
      "9      109       Daniel      Faviet 2002-08-16\n",
      "8      108        Nancy   Greenberg 2002-08-17\n",
      "14     114          Den    Raphaely 2002-12-07\n",
      "15     115    Alexander        Khoo 2003-05-18\n",
      "0      100       Steven        King 2003-06-17\n",
      "5      105        David      Austin 2005-06-25\n",
      "17     117        Sigal      Tobias 2005-07-24\n",
      "1      101        Neena     Kochhar 2005-09-21\n",
      "10     110         John        Chen 2005-09-28\n",
      "11     111       Ismael     Sciarra 2005-09-30\n",
      "16     116       Shelli       Baida 2005-12-24\n",
      "3      103    Alexander      Hunold 2006-01-03\n",
      "6      106        Valli   Pataballa 2006-02-05\n",
      "12     112  Jose Manuel       Urman 2006-03-07\n",
      "18     118          Guy      Himuro 2006-11-15\n",
      "7      107        Diana     Lorentz 2007-02-07\n",
      "4      104        Bruce       Ernst 2007-05-21\n",
      "19     119        Karen  Colmenares 2007-08-10\n",
      "13     113         Luis        Popp 2007-12-07\n"
     ]
    }
   ],
   "source": [
    "#Problem 3- Part2\n",
    "#sort by hiring_date of emp_id? the expoutput is sort by emp_id.\n",
    "def sortdate():\n",
    "    data=pd.read_excel('employee.xlsx',sheet_name='Sheet1')\n",
    "    data[\"hire_date\"] = pd.to_datetime(data[\"hire_date\"]) #Convert argument to datetime\n",
    "    data=data.sort_values(by=\"hire_date\") #Sort by the hire date\n",
    "    return data\n",
    "print(sortdate())"
   ]
  },
  {
   "cell_type": "code",
   "execution_count": 9,
   "metadata": {},
   "outputs": [
    {
     "name": "stdout",
     "output_type": "stream",
     "text": [
      "    emp_id   first_name  last_name  hire_date\n",
      "1      101        Neena    Kochhar 2005-09-21\n",
      "3      103    Alexander     Hunold 2006-01-03\n",
      "5      105        David     Austin 2005-06-25\n",
      "6      106        Valli  Pataballa 2006-02-05\n",
      "10     110         John       Chen 2005-09-28\n",
      "11     111       Ismael    Sciarra 2005-09-30\n",
      "12     112  Jose Manuel      Urman 2006-03-07\n",
      "16     116       Shelli      Baida 2005-12-24\n",
      "17     117        Sigal     Tobias 2005-07-24\n",
      "18     118          Guy     Himuro 2006-11-15\n"
     ]
    }
   ],
   "source": [
    "#Problem 3- Part3\n",
    "def filterdate():\n",
    "    data=pd.read_excel('employee.xlsx',sheet_name='Sheet1')\n",
    "    filterdata=data[(data['hire_date']> '2005-01-01') & (data['hire_date'] < '2006-12-01')] #Set the range for hire date\n",
    "    frame=DataFrame(filterdata)\n",
    "    return frame\n",
    "print(filterdate())"
   ]
  },
  {
   "cell_type": "code",
   "execution_count": 10,
   "metadata": {},
   "outputs": [
    {
     "name": "stdout",
     "output_type": "stream",
     "text": [
      "            emp_id   first_name   last_name  hire_date\n",
      "hire_date                                             \n",
      "2003-06-17     100       Steven        King 2003-06-17\n",
      "2005-09-21     101        Neena     Kochhar 2005-09-21\n",
      "2001-01-13     102          Lex     De Haan 2001-01-13\n",
      "2006-01-03     103    Alexander      Hunold 2006-01-03\n",
      "2007-05-21     104        Bruce       Ernst 2007-05-21\n",
      "2005-06-25     105        David      Austin 2005-06-25\n",
      "2006-02-05     106        Valli   Pataballa 2006-02-05\n",
      "2007-02-07     107        Diana     Lorentz 2007-02-07\n",
      "2002-08-17     108        Nancy   Greenberg 2002-08-17\n",
      "2002-08-16     109       Daniel      Faviet 2002-08-16\n",
      "2005-09-28     110         John        Chen 2005-09-28\n",
      "2005-09-30     111       Ismael     Sciarra 2005-09-30\n",
      "2006-03-07     112  Jose Manuel       Urman 2006-03-07\n",
      "2007-12-07     113         Luis        Popp 2007-12-07\n",
      "2002-12-07     114          Den    Raphaely 2002-12-07\n",
      "2003-05-18     115    Alexander        Khoo 2003-05-18\n",
      "2005-12-24     116       Shelli       Baida 2005-12-24\n",
      "2005-07-24     117        Sigal      Tobias 2005-07-24\n",
      "2006-11-15     118          Guy      Himuro 2006-11-15\n",
      "2007-08-10     119        Karen  Colmenares 2007-08-10\n"
     ]
    }
   ],
   "source": [
    "#Problem 3- Part4\n",
    "def setindex():\n",
    "    data=pd.read_excel('employee.xlsx',sheet_name='Sheet1')\n",
    "    data=data.set_index('hire_date', drop=False) #Set the index\n",
    "    return data\n",
    "print(setindex())"
   ]
  },
  {
   "cell_type": "code",
   "execution_count": 11,
   "metadata": {},
   "outputs": [
    {
     "name": "stdout",
     "output_type": "stream",
     "text": [
      "    emp_id   first_name    last_name  hire_date\n",
      "0      100       Steven         King 2003-06-17\n",
      "1      101        Neena      Kochhar 2005-09-21\n",
      "2      102          Lex      De Haan 2001-01-13\n",
      "3      103    Alexander       Hunold 2006-01-03\n",
      "4      104        Bruce        Ernst 2007-05-21\n",
      "5      105        David       Austin 2005-06-25\n",
      "6      106        Valli    Pataballa 2006-02-05\n",
      "7      107        Diana      Lorentz 2007-02-07\n",
      "8      108        Nancy    Greenberg 2002-08-17\n",
      "9      109       Daniel       Faviet 2002-08-16\n",
      "10     110         John         Chen 2005-09-28\n",
      "11     111       Ismael      Sciarra 2005-09-30\n",
      "12     112  Jose Manuel        Urman 2006-03-07\n",
      "13     113         Luis         Popp 2007-12-07\n",
      "14     114          Den     Raphaely 2002-12-07\n",
      "15     115    Alexander         Khoo 2003-05-18\n",
      "16     116       Shelli        Baida 2005-12-24\n",
      "17     117        Sigal       Tobias 2005-07-24\n",
      "18     118          Guy       Himuro 2006-11-15\n",
      "19     119        Karen   Colmenares 2007-08-10\n",
      "20     120      Matthew        Weiss 2004-07-18\n",
      "21     121         Adam        Fripp 2005-04-10\n",
      "22     122        Payam     Kaufling 2003-05-01\n",
      "23     123       Shanta      Vollman 2005-10-10\n",
      "24     124        Kevin      Mourgos 2007-11-16\n",
      "25     125        Julia        Nayer 2005-07-16\n",
      "26     126        Irene  Mikkilineni 2006-09-28\n",
      "27     127        James       Landry 2007-01-14\n",
      "28     128       Steven       Markle 2008-03-08\n",
      "29     129        Laura       Bissot 2005-08-20\n",
      "30     130        Mozhe     Atkinson 2005-10-30\n",
      "31     131        James       Marlow 2005-02-16\n",
      "32     132           TJ        Olson 2007-04-10\n",
      "33     133        Jason       Mallin 2004-06-14\n",
      "34     134      Michael       Rogers 2006-08-26\n",
      "35     135           Ki          Gee 2007-12-12\n",
      "36     136        Hazel   Philtanker 2008-02-06\n",
      "37     137       Renske       Ladwig 2003-07-14\n",
      "38     138      Stephen       Stiles 2005-10-26\n",
      "39     141       Trenna         Rajs 2003-10-17\n",
      "40     142       Curtis       Davies 2005-01-29\n",
      "41     143      Randall        Matos 2006-03-15\n",
      "42     144        Peter       Vargas 2006-07-09\n",
      "43     145         John      Russell 2004-10-01\n",
      "44     146        Karen     Partners 2005-01-05\n",
      "45     147      Alberto    Errazuriz 2005-03-10\n",
      "46     148       Gerald    Cambrault 2007-10-15\n",
      "47     149        Eleni      Zlotkey 2008-01-29\n"
     ]
    }
   ],
   "source": [
    "#Problem 3- Part5\n",
    "def combinesheet():\n",
    "    all_dfs = pd.read_excel('employee.xlsx', sheet_name=None)#None read in all the sheets\n",
    "    data = pd.concat(all_dfs, ignore_index=True) #Combine all sheet\n",
    "    data.to_excel('employee_new.xlsx',sheet_name='Sheet1') #Write to the new excel file\n",
    "    return data\n",
    "print(combinesheet())"
   ]
  },
  {
   "cell_type": "code",
   "execution_count": null,
   "metadata": {},
   "outputs": [],
   "source": []
  }
 ],
 "metadata": {
  "kernelspec": {
   "display_name": "Python 3",
   "language": "python",
   "name": "python3"
  },
  "language_info": {
   "codemirror_mode": {
    "name": "ipython",
    "version": 3
   },
   "file_extension": ".py",
   "mimetype": "text/x-python",
   "name": "python",
   "nbconvert_exporter": "python",
   "pygments_lexer": "ipython3",
   "version": "3.8.3"
  }
 },
 "nbformat": 4,
 "nbformat_minor": 4
}
