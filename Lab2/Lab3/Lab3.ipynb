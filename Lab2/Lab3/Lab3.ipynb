{
 "cells": [
  {
   "cell_type": "code",
   "execution_count": 1,
   "metadata": {},
   "outputs": [],
   "source": [
    "#Lab3\n",
    "#Class:ELEC4511 HardwareSoftware\n",
    "#Name:Fuwei Huang,Claire Charlton,John Milner"
   ]
  },
  {
   "cell_type": "code",
   "execution_count": 2,
   "metadata": {},
   "outputs": [],
   "source": [
    "import numpy as np\n",
    "import pandas as pd\n",
    "from pandas import DataFrame\n",
    "from matplotlib import pyplot as plt"
   ]
  },
  {
   "cell_type": "code",
   "execution_count": 53,
   "metadata": {},
   "outputs": [],
   "source": [
    "class LinearModel(object):\n",
    "    def __init__(self):\n",
    "        self.w=np.random.randn(1)[0] #random slope\n",
    "        self.b=np.random.randn(1)[0] #random intercept\n",
    "        \n",
    "    def loss(self,x,y):\n",
    "        db=0 #initialize the intercept\n",
    "        dw=0 #initialize the slope\n",
    "        n=len(x)\n",
    "        \n",
    "        for i in range(n):\n",
    "            xi=x[i]\n",
    "            yi=y[i]\n",
    "        dw+= -(2/n) * xi * (yi - ((self.w * xi) + self.b)) #-2/n*x*(y-(mx+b))\n",
    "        db+= (2/n) * (yi - ((self.w * xi) + self.b)) #2/n*(y-(mx+b))\n",
    "        return dw,db\n",
    "        \n",
    "    def gradient_descent(self, iterations, learning_rate = 0.1):\n",
    "        for i in range(iterations):\n",
    "            dw,db = self.loss(x,y)\n",
    "            self.b= self.b - (learning_rate * db)\n",
    "            self.w= self.w - (learning_rate * dw)\n",
    "            \n",
    "    def fit(self,x,y):\n",
    "        self.loss(x,y)\n",
    "        self.gradient_descent(10)\n",
    "        \n",
    "    def result(self):\n",
    "        return self.w, self.b"
   ]
  },
  {
   "cell_type": "code",
   "execution_count": 54,
   "metadata": {},
   "outputs": [
    {
     "data": {
      "text/plain": [
       "[<matplotlib.lines.Line2D at 0x130db509910>]"
      ]
     },
     "execution_count": 54,
     "metadata": {},
     "output_type": "execute_result"
    },
    {
     "data": {
      "image/png": "[encoded data removed]",
      "text/plain": [
       "<Figure size 432x288 with 1 Axes>"
      ]
     },
     "metadata": {
      "needs_background": "light"
     },
     "output_type": "display_data"
    }
   ],
   "source": [
    "data = pd.read_csv(\"Salary_Data.csv\")\n",
    "x=np.array(data['YearsExperience']).reshape(-1,1)\n",
    "y=np.array(data['Salary']).reshape(-1,1)\n",
    "lm=LinearModel()\n",
    "lm.fit(x,y)\n",
    "plt.scatter(x,y,c='red')\n",
    "plt.plot(x,lm.result()[0]*x+lm.result()[1],color = 'green')"
   ]
  },
  {
   "cell_type": "code",
   "execution_count": null,
   "metadata": {},
   "outputs": [],
   "source": []
  },
  {
   "cell_type": "code",
   "execution_count": null,
   "metadata": {},
   "outputs": [],
   "source": []
  }
 ],
 "metadata": {
  "kernelspec": {
   "display_name": "Python 3",
   "language": "python",
   "name": "python3"
  },
  "language_info": {
   "codemirror_mode": {
    "name": "ipython",
    "version": 3
   },
   "file_extension": ".py",
   "mimetype": "text/x-python",
   "name": "python",
   "nbconvert_exporter": "python",
   "pygments_lexer": "ipython3",
   "version": "3.8.5"
  }
 },
 "nbformat": 4,
 "nbformat_minor": 4
}
