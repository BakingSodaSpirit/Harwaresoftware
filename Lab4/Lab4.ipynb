{
 "cells": [
  {
   "cell_type": "code",
   "execution_count": 1,
   "metadata": {},
   "outputs": [],
   "source": [
    "#Lab4\n",
    "#Class:ELEC4511 HardwareSoftware\n",
    "#Name:Fuwei Huang,Claire Charlton,John Milner"
   ]
  },
  {
   "cell_type": "code",
   "execution_count": 2,
   "metadata": {},
   "outputs": [],
   "source": [
    "import numpy as np\n",
    "import gzip, pickle, sys\n",
    "import matplotlib.pyplot as plt"
   ]
  },
  {
   "cell_type": "code",
   "execution_count": 3,
   "metadata": {},
   "outputs": [],
   "source": [
    "conv1_w=np.load(\"conv1_w.npy\") # (16,1,3,3) Kernal size:3x3x1 16 filters in total\n",
    "conv1_b=np.load(\"conv1_b.npy\") # (16)\n",
    "conv2_w=np.load(\"conv2_w.npy\") # (32，16，3，3） Keral size: 3x3x16, 32 filters in total\n",
    "conv2_b=np.load(\"conv2_b.npy\") # (16,)\n",
    "fc_w=np.load(\"fc_w.npy\") # (10,1568)\n",
    "fc_b=np.load(\"fc_b.npy\") # (10,)"
   ]
  },
  {
   "cell_type": "code",
   "execution_count": 4,
   "metadata": {},
   "outputs": [],
   "source": [
    "def conv_forward(z,k,b,padding=0):\n",
    "    stride=1\n",
    "    N,C,H,W=z.shape #Number of input, Channel, Height, Width\n",
    "    F,_,FH,FW= k.shape #Number of fiter,_, Filter height, Filter width\n",
    "    H_out=1+(H + 2 *padding - FH) //stride #Calculate the output height\n",
    "    W_out=1+(W + 2 *padding - FW) //stride #Calculate the output width\n",
    "    conv_z = np.zeros((N,F,H_out,W_out)) \n",
    "    pad_widths =((0,),(0,),(padding,),(padding,)) #Add padding\n",
    "    xpad = np.pad(z,pad_widths, 'constant')\n",
    "    Npad,Cpad,Hpad,Wpad=xpad.shape \n",
    "    \n",
    "    for n in range(N): #For number of image\n",
    "        for f in range(F): #For number of filters\n",
    "            for i in range(H_out): #For output height\n",
    "                for j in range(W_out):#For output width\n",
    "                    prod=np.sum(np.multiply(k[f,...],xpad[n,:, i:i+FH, j:j+FW]))\n",
    "                    conv_z[n,f, int(i/stride), int(j/stride)] = prod + b[f]  #calculate output with bias\n",
    "    return conv_z"
   ]
  },
  {
   "cell_type": "code",
   "execution_count": 5,
   "metadata": {},
   "outputs": [],
   "source": [
    "def max_pooling_forward(z,stride=2):\n",
    "    Hp=2 #Height of the pool\n",
    "    Wp=2  #Width of the pool\n",
    "    N,C,H,W=z.shape #Number of input, Channel, Height, Width\n",
    "    H_out=(H-Hp) //stride + 1 #Calculate the output height\n",
    "    W_out=(W-Wp) //stride + 1 #Calculate the output width\n",
    "    pool_z = np.zeros((N,C,H_out,W_out)) \n",
    "    for n in range(N): #For number of image\n",
    "        for c in range(C): #For number of filters\n",
    "            for k in range(H_out): #For output height\n",
    "                for l in range(W_out): #For output width\n",
    "                    #calculate output of maxpooling\n",
    "                    pool_z[n,c,k,l]= np.max(z[n,c,k *stride:k * stride + Hp, l* stride: l *stride +Wp]) \n",
    "    return pool_z"
   ]
  },
  {
   "cell_type": "code",
   "execution_count": 6,
   "metadata": {},
   "outputs": [],
   "source": [
    "#Relu, flatten, fc_forward\n",
    "def relu_forward(z):\n",
    "    \"\"\"\n",
    "    relu() activation\n",
    "    :param z: Layer to be activiated\n",
    "    :return: Result after activation\n",
    "    \"\"\"\n",
    "    return np.maximum(0,z)\n",
    "\n",
    "def flatten_forward(z):\n",
    "    \"\"\"\n",
    "    Flatten the multidimensional array\n",
    "    :param z: multidimensional array,shape(N,di,d2,..)\n",
    "    :return:\n",
    "    \"\"\"\n",
    "    N=z.shape[0]\n",
    "    return np.reshape(z,(N,-1))\n",
    "\n",
    "def fc_forward(z,W,b):\n",
    "    \"\"\"\n",
    "    Forward propagation of the fully connected layer\n",
    "    :param z: The output of the current layer, shape(N,ln)\n",
    "    :param W: The weight of the current layer\n",
    "    :param b: The bias of the current layer\n",
    "    :return: Output of the next layer\n",
    "    \"\"\"\n",
    "    return np.dot(W, z.transpose())+np.expand_dims(b,1).repeat(z.shape[0],axis=1)"
   ]
  },
  {
   "cell_type": "code",
   "execution_count": 7,
   "metadata": {},
   "outputs": [],
   "source": [
    "#Main processing function\n",
    "def forward(X):\n",
    "    conv1      = conv_forward(x.astype(np.float64),conv1_w,conv1_b,padding=1)\n",
    "    conv1_relu = relu_forward(conv1)\n",
    "    maxp1      = max_pooling_forward(conv1_relu.astype(np.float64))\n",
    "    conv2      = conv_forward(maxp1, conv2_w, conv2_b, padding=1)\n",
    "    conv2_relu = relu_forward(conv2)\n",
    "    maxp2      = max_pooling_forward(conv2_relu.astype(np.float64))\n",
    "    \n",
    "    flatten    = flatten_forward(maxp2)\n",
    "    y          = fc_forward(flatten,fc_w,fc_b)\n",
    "    return y"
   ]
  },
  {
   "cell_type": "code",
   "execution_count": 8,
   "metadata": {},
   "outputs": [
    {
     "data": {
      "image/png": "[encoded data removed]",
      "text/plain": [
       "<Figure size 216x216 with 1 Axes>"
      ]
     },
     "metadata": {
      "needs_background": "light"
     },
     "output_type": "display_data"
    },
    {
     "name": "stdout",
     "output_type": "stream",
     "text": [
      "y_true:0,y_predict:0\n"
     ]
    },
    {
     "data": {
      "image/png": "[encoded data removed]",
      "text/plain": [
       "<Figure size 216x216 with 1 Axes>"
      ]
     },
     "metadata": {
      "needs_background": "light"
     },
     "output_type": "display_data"
    },
    {
     "name": "stdout",
     "output_type": "stream",
     "text": [
      "y_true:2,y_predict:2\n"
     ]
    },
    {
     "data": {
      "image/png": "[encoded data removed]",
      "text/plain": [
       "<Figure size 216x216 with 1 Axes>"
      ]
     },
     "metadata": {
      "needs_background": "light"
     },
     "output_type": "display_data"
    },
    {
     "name": "stdout",
     "output_type": "stream",
     "text": [
      "y_true:4,y_predict:4\n"
     ]
    },
    {
     "data": {
      "image/png": "[encoded data removed]",
      "text/plain": [
       "<Figure size 216x216 with 1 Axes>"
      ]
     },
     "metadata": {
      "needs_background": "light"
     },
     "output_type": "display_data"
    },
    {
     "name": "stdout",
     "output_type": "stream",
     "text": [
      "y_true:3,y_predict:3\n"
     ]
    },
    {
     "data": {
      "image/png": "[encoded data removed]",
      "text/plain": [
       "<Figure size 216x216 with 1 Axes>"
      ]
     },
     "metadata": {
      "needs_background": "light"
     },
     "output_type": "display_data"
    },
    {
     "name": "stdout",
     "output_type": "stream",
     "text": [
      "y_true:5,y_predict:5\n"
     ]
    }
   ],
   "source": [
    "#Testing\n",
    "f = gzip.open('mnist.pkl.gz','rb')\n",
    "if sys.version_info < (3,):\n",
    "    (X_train,y_train),(X_test,y_test) = pickle.load(f)\n",
    "else:\n",
    "    (X_train,y_train),(X_test,y_test) = pickle.load(f,encoding='bytes')\n",
    "idx = np.random.choice(X_test.shape[0],5)\n",
    "x,y=X_test[idx],y_test[idx]\n",
    "x=np.reshape(x,(-1,1,28,28))\n",
    "y_predict = forward(x)\n",
    "\n",
    "for i in range(5):\n",
    "    plt.figure(figsize=(3,3))\n",
    "    plt.imshow(np.reshape(x[i],(28,28)), cmap='gray')\n",
    "    plt.show()\n",
    "    print(\"y_true:{},y_predict:{}\".format(y[i],np.argmax(y_predict[:,i])))"
   ]
  }
 ],
 "metadata": {
  "kernelspec": {
   "display_name": "Python 3",
   "language": "python",
   "name": "python3"
  },
  "language_info": {
   "codemirror_mode": {
    "name": "ipython",
    "version": 3
   },
   "file_extension": ".py",
   "mimetype": "text/x-python",
   "name": "python",
   "nbconvert_exporter": "python",
   "pygments_lexer": "ipython3",
   "version": "3.8.5"
  }
 },
 "nbformat": 4,
 "nbformat_minor": 4
}
